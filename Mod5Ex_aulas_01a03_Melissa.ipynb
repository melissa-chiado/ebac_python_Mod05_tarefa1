{
 "cells": [
  {
   "cell_type": "markdown",
   "metadata": {},
   "source": [
    "# Módulo 5 Tarefa 1\n",
    "## Base de nascidos vivos do DataSUS\n",
    "O DataSUS disponibiliza diversos arquivos de dados com relação a seus segurados, conforme a [lei da transparência de informações públicas](https://www.sisgov.com/transparencia-acesso-informacao/#:~:text=A%20Lei%20da%20Transpar%C3%AAncia%20(LC,em%20um%20site%20na%20internet.). \n",
    "\n",
    "Essas informações podem ser obtidas pela internet [aqui](http://www2.datasus.gov.br/DATASUS/index.php?area=0901&item=1). Como o processo de obtenção desses arquivos foge um pouco do nosso escopo, deixamos o arquivo SINASC_RO_2019.csv` já como vai ser encontrado no DataSUS. O dicionário de dados está no arquivo `estrutura_sinasc_para_CD.pdf` (o nome do arquivo tal qual no portal do DataSUS).\n",
    "\n",
    "### Nosso objetivo\n",
    "Queremos deixar uma base organizada para podermos estudar a relação entre partos com risco para o bebê e algumas condições como tempo de parto, consultas de pré-natal etc.\n",
    "\n",
    "#### Preparação da base\n",
    "1. Carregue a base 'SINASC_RO_2019.csv'. Conte o número de registros e o número de registros não duplicados da base. Dica: você aprendeu um método que remove duplicados, encadeie este método com um outro método que conta o número de linhas. **Há linhas duplicadas?**  \n",
    "\n",
    "2. Conte o número de valores *missing* por variável.  \n",
    "\n",
    "3. Ok, no item anterior você deve ter achado pouco prático ler a informação de tantas variáveis, muitas delas nem devem ser interesantes. Então crie uma seleção dessa base somente com as colunas que interessam. São elas:\n",
    "` \n",
    "['LOCNASC', 'IDADEMAE', 'ESTCIVMAE', 'ESCMAE', 'QTDFILVIVO', \n",
    "    'GESTACAO', 'GRAVIDEZ', 'CONSULTAS', 'APGAR5'] \n",
    "`\n",
    "Refaça a contagem de valores *missings*.  \n",
    "\n",
    "4. Apgar é uma *nota* que o pediatra dá ao bebê quando nasce de acordo com algumas características associadas principalmente à respiração. Apgar 1 e Apgar 5 são as notas 1 e 5 minutos do nascimento. Apgar5 será a nossa variável de interesse principal. Então remova todos os registros com Apgar5 não preenchido. Para esta seleção, conte novamente o número de linhas e o número de *missings*.  \n",
    "\n",
    "5. observe que as variáveis `['ESTCIVMAE', 'CONSULTAS']` possuem o código `9`, que significa *ignorado*. Vamos assumir que o não preenchido é o mesmo que o código `9`.<br>\n",
    "6. Substitua os valores faltantes da quantitativa (`QTDFILVIVO`) por zero.  \n",
    "7. Das restantes, decida que valore te parece mais adequado (um 'não preenchido' ou um valor 'mais provável' como no item anterior) e preencha. Justifique. Lembre-se de que tratamento de dados é trabalho do cientista, e que estamos tomando decisões a todo o momento - não há necessariamente certo e errado aqui.  \n",
    "8. O Apgar possui uma classificação indicando se o bebê passou por asfixia:\n",
    "- Entre 8 e 10 está em uma faixa 'normal'. \n",
    "- Entre 6 e 7, significa que o recém-nascido passou por 'asfixia leve'. \n",
    "- Entre 4 e 5 significa 'asfixia moderada'.\n",
    "- Entre 0 e 3 significa 'asfixia severa'.  \n",
    "\n",
    "Crie uma categorização dessa variável com essa codificação e calcule as frequências dessa categorização.  \n",
    "<br>\n",
    "9. Renomeie as variáveis para que fiquem no *snake case*, ou seja, em letras minúsculas, com um *underscore* entre as palávras. Dica: repare que se você não quiser criar um *dataframe* novo, você vai precisar usar a opção `inplace = True`."
   ]
  },
  {
   "cell_type": "code",
   "execution_count": 1,
   "metadata": {},
   "outputs": [
    {
     "name": "stdout",
     "output_type": "stream",
     "text": [
      "(27028, 69)\n"
     ]
    },
    {
     "data": {
      "text/plain": [
       "(27028, 69)"
      ]
     },
     "execution_count": 1,
     "metadata": {},
     "output_type": "execute_result"
    }
   ],
   "source": [
    "import pandas as pd\n",
    "import requests\n",
    "\n",
    "# 1) seu código aqui\n",
    "sinasc = pd.read_csv('SINASC_RO_2019.csv')\n",
    "print(sinasc.shape)\n",
    "sinasc.drop_duplicates().shape\n",
    "# Não há duplicados"
   ]
  },
  {
   "cell_type": "code",
   "execution_count": 2,
   "metadata": {},
   "outputs": [
    {
     "name": "stdout",
     "output_type": "stream",
     "text": [
      "ORIGEM              0\n",
      "CODESTAB          115\n",
      "CODMUNNASC          0\n",
      "LOCNASC             0\n",
      "IDADEMAE            0\n",
      "ESTCIVMAE         317\n",
      "ESCMAE            312\n",
      "CODOCUPMAE       2907\n",
      "QTDFILVIVO       1573\n",
      "QTDFILMORT       2098\n",
      "CODMUNRES           0\n",
      "GESTACAO         1232\n",
      "GRAVIDEZ           79\n",
      "PARTO              49\n",
      "CONSULTAS           0\n",
      "DTNASC              0\n",
      "HORANASC           21\n",
      "SEXO                4\n",
      "APGAR1             96\n",
      "APGAR5            103\n",
      "RACACOR           647\n",
      "PESO                0\n",
      "IDANOMAL          591\n",
      "DTCADASTRO          0\n",
      "CODANOMAL       26814\n",
      "NUMEROLOTE          0\n",
      "VERSAOSIST          0\n",
      "DTRECEBIM           0\n",
      "DIFDATA             0\n",
      "DTRECORIGA      27028\n",
      "NATURALMAE        298\n",
      "CODMUNNATU        298\n",
      "CODUFNATU         298\n",
      "ESCMAE2010        249\n",
      "SERIESCMAE      12710\n",
      "DTNASCMAE          40\n",
      "RACACORMAE        661\n",
      "QTDGESTANT       1212\n",
      "QTDPARTNOR       1879\n",
      "QTDPARTCES       1791\n",
      "IDADEPAI        19421\n",
      "DTULTMENST      10072\n",
      "SEMAGESTAC       1238\n",
      "TPMETESTIM       1238\n",
      "CONSPRENAT        930\n",
      "MESPRENAT        2867\n",
      "TPAPRESENT        265\n",
      "STTRABPART        947\n",
      "STCESPARTO        747\n",
      "TPNASCASSI         61\n",
      "TPFUNCRESP         67\n",
      "TPDOCRESP          14\n",
      "DTDECLARAC         52\n",
      "ESCMAEAGR1        249\n",
      "STDNEPIDEM          0\n",
      "STDNNOVA            0\n",
      "CODPAISRES          0\n",
      "TPROBSON            0\n",
      "PARIDADE            0\n",
      "KOTELCHUCK          0\n",
      "CONTADOR            0\n",
      "munResStatus        0\n",
      "munResTipo          0\n",
      "munResNome          0\n",
      "munResUf            0\n",
      "munResLat           1\n",
      "munResLon           1\n",
      "munResAlt           1\n",
      "munResArea          1\n"
     ]
    }
   ],
   "source": [
    "# 2) seu código aqui\n",
    "nulos = sinasc.isna().sum()\n",
    "print(nulos.to_string())\n"
   ]
  },
  {
   "cell_type": "code",
   "execution_count": 3,
   "metadata": {},
   "outputs": [
    {
     "data": {
      "text/plain": [
       "LOCNASC          0\n",
       "IDADEMAE         0\n",
       "ESTCIVMAE      317\n",
       "ESCMAE         312\n",
       "QTDFILVIVO    1573\n",
       "GESTACAO      1232\n",
       "GRAVIDEZ        79\n",
       "CONSULTAS        0\n",
       "APGAR5         103\n",
       "dtype: int64"
      ]
     },
     "execution_count": 3,
     "metadata": {},
     "output_type": "execute_result"
    }
   ],
   "source": [
    "# 3) seu código aqui\n",
    "colunas_interesse = ['LOCNASC', 'IDADEMAE', 'ESTCIVMAE', 'ESCMAE', 'QTDFILVIVO',   'GESTACAO', 'GRAVIDEZ', 'CONSULTAS', 'APGAR5']\n",
    "\n",
    "sinasc_interesse = sinasc[colunas_interesse]\n",
    "\n",
    "sinasc_interesse.isna().sum()"
   ]
  },
  {
   "cell_type": "code",
   "execution_count": 4,
   "metadata": {},
   "outputs": [
    {
     "name": "stdout",
     "output_type": "stream",
     "text": [
      "       LOCNASC  IDADEMAE  ESTCIVMAE           ESCMAE  QTDFILVIVO  \\\n",
      "0            1        19        5.0      8 a 11 anos         0.0   \n",
      "1            1        29        2.0      8 a 11 anos         1.0   \n",
      "2            1        37        9.0      8 a 11 anos         2.0   \n",
      "3            1        30        5.0  12 anos ou mais         0.0   \n",
      "4            1        30        2.0      8 a 11 anos         1.0   \n",
      "...        ...       ...        ...              ...         ...   \n",
      "27023        1        32        2.0  12 anos ou mais         1.0   \n",
      "27024        1        19        1.0      8 a 11 anos         0.0   \n",
      "27025        1        24        2.0      8 a 11 anos         0.0   \n",
      "27026        1        21        2.0      8 a 11 anos         1.0   \n",
      "27027        1        18        5.0      8 a 11 anos         1.0   \n",
      "\n",
      "              GESTACAO GRAVIDEZ  CONSULTAS  APGAR5  \n",
      "0      37 a 41 semanas    Única          4    10.0  \n",
      "1      37 a 41 semanas    Única          4     9.0  \n",
      "2      37 a 41 semanas    Única          4    10.0  \n",
      "3      37 a 41 semanas    Única          3    10.0  \n",
      "4      37 a 41 semanas    Única          4    10.0  \n",
      "...                ...      ...        ...     ...  \n",
      "27023  32 a 36 semanas    Única          4     9.0  \n",
      "27024  37 a 41 semanas    Única          4     9.0  \n",
      "27025  37 a 41 semanas    Única          4    10.0  \n",
      "27026  32 a 36 semanas    Única          4     9.0  \n",
      "27027  37 a 41 semanas    Única          4     8.0  \n",
      "\n",
      "[26925 rows x 9 columns]\n"
     ]
    },
    {
     "name": "stderr",
     "output_type": "stream",
     "text": [
      "C:\\Users\\chiad\\AppData\\Local\\Temp\\ipykernel_6388\\3913750993.py:2: SettingWithCopyWarning: \n",
      "A value is trying to be set on a copy of a slice from a DataFrame\n",
      "\n",
      "See the caveats in the documentation: https://pandas.pydata.org/pandas-docs/stable/user_guide/indexing.html#returning-a-view-versus-a-copy\n",
      "  sinasc_interesse.dropna(subset='APGAR5', inplace=True)\n"
     ]
    }
   ],
   "source": [
    "# 4) seu código aqui\n",
    "sinasc_interesse.dropna(subset='APGAR5', inplace=True)\n",
    "print(sinasc_interesse)\n",
    "\n"
   ]
  },
  {
   "cell_type": "code",
   "execution_count": 5,
   "metadata": {},
   "outputs": [],
   "source": [
    "# 5) seu código aqui\n"
   ]
  },
  {
   "cell_type": "code",
   "execution_count": 6,
   "metadata": {},
   "outputs": [
    {
     "name": "stderr",
     "output_type": "stream",
     "text": [
      "C:\\Users\\chiad\\AppData\\Local\\Temp\\ipykernel_6388\\253955108.py:2: SettingWithCopyWarning: \n",
      "A value is trying to be set on a copy of a slice from a DataFrame\n",
      "\n",
      "See the caveats in the documentation: https://pandas.pydata.org/pandas-docs/stable/user_guide/indexing.html#returning-a-view-versus-a-copy\n",
      "  sinasc_interesse['QTDFILVIVO'].fillna(0, inplace=True)\n"
     ]
    },
    {
     "data": {
      "text/plain": [
       "0"
      ]
     },
     "execution_count": 6,
     "metadata": {},
     "output_type": "execute_result"
    }
   ],
   "source": [
    "# 6) Seu código aqui\n",
    "sinasc_interesse['QTDFILVIVO'].fillna(0, inplace=True)\n",
    "\n",
    "sinasc_interesse['QTDFILVIVO'].isna().sum()\n"
   ]
  },
  {
   "cell_type": "code",
   "execution_count": 7,
   "metadata": {},
   "outputs": [
    {
     "name": "stderr",
     "output_type": "stream",
     "text": [
      "C:\\Users\\chiad\\AppData\\Local\\Temp\\ipykernel_6388\\2789980901.py:8: SettingWithCopyWarning: \n",
      "A value is trying to be set on a copy of a slice from a DataFrame\n",
      "\n",
      "See the caveats in the documentation: https://pandas.pydata.org/pandas-docs/stable/user_guide/indexing.html#returning-a-view-versus-a-copy\n",
      "  sinasc_interesse.fillna(valores, inplace=True)\n"
     ]
    },
    {
     "data": {
      "text/plain": [
       "LOCNASC       0\n",
       "IDADEMAE      0\n",
       "ESTCIVMAE     0\n",
       "ESCMAE        0\n",
       "QTDFILVIVO    0\n",
       "GESTACAO      0\n",
       "GRAVIDEZ      0\n",
       "CONSULTAS     0\n",
       "APGAR5        0\n",
       "dtype: int64"
      ]
     },
     "execution_count": 7,
     "metadata": {},
     "output_type": "execute_result"
    }
   ],
   "source": [
    "# 7) seu código aqui\n",
    "\n",
    "# Preferi deixar os nulos do campo 'ESTCIVMAE' como 1-Solteiro, pois acredito ser o mais provável se não \n",
    "# foi fornecido o estado civil. Os nulos dos outros campos preferi deixar como 9-Não preenchido, pois achei as opções mais\n",
    "# específicas e difíceis de se estimar.\n",
    "\n",
    "valores = {'ESTCIVMAE': 1, 'ESCMAE': 9, 'GESTACAO': 9, 'GRAVIDEZ': 9}\n",
    "sinasc_interesse.fillna(valores, inplace=True)\n",
    "sinasc_interesse.isna().sum()\n"
   ]
  },
  {
   "cell_type": "code",
   "execution_count": 8,
   "metadata": {},
   "outputs": [
    {
     "name": "stdout",
     "output_type": "stream",
     "text": [
      "Frequência absoluta\n",
      "{'normal': 26463, 'asfixia leve': 320, 'asfixia moderada': 68, 'asfixia severa': 74}\n",
      "Frequência relativa\n",
      "{'normal': 0.9828412256267409, 'asfixia leve': 0.011884865366759517, 'asfixia moderada': 0.0025255338904363973, 'asfixia severa': 0.002748375116063138}\n"
     ]
    }
   ],
   "source": [
    "# 8) seu código aqui\n",
    "\n",
    "\n",
    "\n",
    "apgar_valores = sinasc_interesse['APGAR5'].value_counts()\n",
    "\n",
    "Apgar_fq_absoluta = {\n",
    "    'normal':apgar_valores[8] + apgar_valores[9] + apgar_valores[10],\n",
    "    'asfixia leve':apgar_valores[6] + apgar_valores[7],\n",
    "    'asfixia moderada':apgar_valores[4] + apgar_valores[5],\n",
    "    'asfixia severa':apgar_valores[0] + apgar_valores[1] + apgar_valores[2] + apgar_valores[3]\n",
    "}\n",
    "\n",
    "Apgar_fq_relativa = {\n",
    "    'normal':(apgar_valores[8] + apgar_valores[9] + apgar_valores[10]) / 26925,\n",
    "    'asfixia leve':(apgar_valores[6] + apgar_valores[7]) / 26925,\n",
    "    'asfixia moderada':(apgar_valores[4] + apgar_valores[5]) / 26925,\n",
    "    'asfixia severa':(apgar_valores[0] + apgar_valores[1] + apgar_valores[2] + apgar_valores[3]) / 26925\n",
    "}\n",
    "\n",
    "print(\"Frequência absoluta\")\n",
    "print(Apgar_fq_absoluta)\n",
    "print(\"Frequência relativa\")\n",
    "print(Apgar_fq_relativa)"
   ]
  },
  {
   "cell_type": "code",
   "execution_count": 9,
   "metadata": {},
   "outputs": [
    {
     "name": "stderr",
     "output_type": "stream",
     "text": [
      "C:\\Users\\chiad\\AppData\\Local\\Temp\\ipykernel_6388\\1031003935.py:2: SettingWithCopyWarning: \n",
      "A value is trying to be set on a copy of a slice from a DataFrame\n",
      "\n",
      "See the caveats in the documentation: https://pandas.pydata.org/pandas-docs/stable/user_guide/indexing.html#returning-a-view-versus-a-copy\n",
      "  sinasc_interesse.rename(columns={'LOCNASC': 'loc_nasc', 'IDADEMAE': 'idade_mae', 'ESTCIVMAE': 'est_civ_mae',\n"
     ]
    },
    {
     "data": {
      "text/plain": [
       "Index(['loc_nasc', 'idade_mae', 'est_civ_mae', 'esc_mae', 'qtd_fil_vivo',\n",
       "       'gestacao', 'gravidez', 'consultas', 'apgar5'],\n",
       "      dtype='object')"
      ]
     },
     "execution_count": 9,
     "metadata": {},
     "output_type": "execute_result"
    }
   ],
   "source": [
    "# 9) seu código aqui\n",
    "sinasc_interesse.rename(columns={'LOCNASC': 'loc_nasc', 'IDADEMAE': 'idade_mae', 'ESTCIVMAE': 'est_civ_mae', \n",
    "                                 'ESCMAE': 'esc_mae', 'QTDFILVIVO': 'qtd_fil_vivo', 'GESTACAO': 'gestacao', \n",
    "                                 'GRAVIDEZ': 'gravidez', 'CONSULTAS': 'consultas', 'APGAR5': 'apgar5'}, inplace=True)\n",
    "\n",
    "sinasc_interesse.columns"
   ]
  }
 ],
 "metadata": {
  "kernelspec": {
   "display_name": "Python 3 (ipykernel)",
   "language": "python",
   "name": "python3"
  },
  "language_info": {
   "codemirror_mode": {
    "name": "ipython",
    "version": 3
   },
   "file_extension": ".py",
   "mimetype": "text/x-python",
   "name": "python",
   "nbconvert_exporter": "python",
   "pygments_lexer": "ipython3",
   "version": "3.11.5"
  }
 },
 "nbformat": 4,
 "nbformat_minor": 4
}
